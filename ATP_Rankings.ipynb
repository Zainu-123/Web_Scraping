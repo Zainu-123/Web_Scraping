{
 "cells": [
  {
   "cell_type": "markdown",
   "id": "44b7d7dc",
   "metadata": {},
   "source": [
    "## Exercise : Data Collection"
   ]
  },
  {
   "cell_type": "markdown",
   "id": "f4b13862",
   "metadata": {},
   "source": [
    "### Importing the libraries"
   ]
  },
  {
   "cell_type": "code",
   "execution_count": 1,
   "id": "a9f5803c",
   "metadata": {},
   "outputs": [],
   "source": [
    "import requests\n",
    "from bs4 import BeautifulSoup\n",
    "import pandas as pd"
   ]
  },
  {
   "cell_type": "markdown",
   "id": "6dfd4917",
   "metadata": {},
   "source": [
    "### Requesting data from Wikipedia regarding current ATP rankings"
   ]
  },
  {
   "cell_type": "code",
   "execution_count": 2,
   "id": "aea98712",
   "metadata": {},
   "outputs": [],
   "source": [
    "# Send a request to the URL\n",
    "url = \"https://en.wikipedia.org/wiki/ATP_rankings\"\n",
    "response = requests.get(url)"
   ]
  },
  {
   "cell_type": "code",
   "execution_count": 3,
   "id": "72078fb6",
   "metadata": {},
   "outputs": [],
   "source": [
    "# Parse HTML content with Beautiful Soup\n",
    "soup = BeautifulSoup(response.content, \"html.parser\")\n"
   ]
  },
  {
   "cell_type": "markdown",
   "id": "43ff9389",
   "metadata": {},
   "source": [
    "### Selecting the table from the webpage"
   ]
  },
  {
   "cell_type": "code",
   "execution_count": 4,
   "id": "b4ffe723",
   "metadata": {},
   "outputs": [],
   "source": [
    "# Find the ATP rankings table\n",
    "table = soup.find(\"table\", {\"class\": \"wikitable nowrap\"})\n"
   ]
  },
  {
   "cell_type": "code",
   "execution_count": 5,
   "id": "8a67d981",
   "metadata": {},
   "outputs": [
    {
     "data": {
      "text/plain": [
       "bs4.element.Tag"
      ]
     },
     "execution_count": 5,
     "metadata": {},
     "output_type": "execute_result"
    }
   ],
   "source": [
    "type(table)"
   ]
  },
  {
   "cell_type": "markdown",
   "id": "93e611a7",
   "metadata": {},
   "source": [
    "### Extracting the table headers and rows"
   ]
  },
  {
   "cell_type": "code",
   "execution_count": 6,
   "id": "e69e3e40",
   "metadata": {},
   "outputs": [],
   "source": [
    "# Extract the table headers and rows\n",
    "headers = []\n",
    "rows = []\n",
    "for row in table.find_all(\"tr\"):\n",
    "    cells = row.find_all(\"td\")\n",
    "    if len(cells) > 0:\n",
    "        row_data = [cell.text.strip() for cell in cells]\n",
    "        rows.append(row_data)\n",
    "    else:\n",
    "        header_cells = row.find_all(\"th\")\n",
    "        headers = [cell.text.strip() for cell in header_cells]"
   ]
  },
  {
   "cell_type": "code",
   "execution_count": 7,
   "id": "bd771924",
   "metadata": {},
   "outputs": [
    {
     "data": {
      "text/plain": [
       "[['1', 'Novak Djokovic\\xa0(SRB)', '7,240', ''],\n",
       " ['2', 'Carlos Alcaraz\\xa0(ESP)', '6,770', ''],\n",
       " ['3', 'Casper Ruud\\xa0(NOR)', '5,255', '1'],\n",
       " ['4', 'Daniil Medvedev\\xa0(RUS)', '5,240', '1'],\n",
       " ['5', 'Stefanos Tsitsipas\\xa0(GRE)', '4,950', '2'],\n",
       " ['6', 'Andrey Rublev\\xa0(RUS)', '4,380', ''],\n",
       " ['7', 'Holger Rune\\xa0(DEN)', '3,865', '2'],\n",
       " ['8', 'Jannik Sinner\\xa0(ITA)', '3,525', ''],\n",
       " ['9', 'Félix Auger-Aliassime\\xa0(CAN)', '3,450', '2'],\n",
       " ['10', 'Taylor Fritz\\xa0(USA)', '3,245', ''],\n",
       " ['11', 'Karen Khachanov\\xa0(RUS)', '2,900', '1'],\n",
       " ['12', 'Frances Tiafoe\\xa0(USA)', '2,870', '1'],\n",
       " ['13', 'Cameron Norrie\\xa0(GBR)', '2,735', '1'],\n",
       " ['14', 'Rafael Nadal\\xa0(ESP)', '2,715', '1'],\n",
       " ['15', 'Hubert Hurkacz\\xa0(POL)', '2,660', '2'],\n",
       " ['16', 'Alexander Zverev\\xa0(GER)', '2,140', ''],\n",
       " ['17', 'Pablo Carreño Busta\\xa0(ESP)', '2,095', ''],\n",
       " ['18', 'Tommy Paul\\xa0(USA)', '2,070', ''],\n",
       " ['19', 'Alex de Minaur\\xa0(AUS)', '2,050', ''],\n",
       " ['20', 'Lorenzo Musetti\\xa0(ITA)', '1,930', '1']]"
      ]
     },
     "execution_count": 7,
     "metadata": {},
     "output_type": "execute_result"
    }
   ],
   "source": [
    "rows"
   ]
  },
  {
   "cell_type": "code",
   "execution_count": 8,
   "id": "97705a8a",
   "metadata": {},
   "outputs": [
    {
     "data": {
      "text/plain": [
       "['No.', 'Player', 'Points', 'Move']"
      ]
     },
     "execution_count": 8,
     "metadata": {},
     "output_type": "execute_result"
    }
   ],
   "source": [
    "headers"
   ]
  },
  {
   "cell_type": "markdown",
   "id": "7ad8a564",
   "metadata": {},
   "source": [
    "### Creating a dataframe with the rows and headers"
   ]
  },
  {
   "cell_type": "code",
   "execution_count": 9,
   "id": "e5ba99a0",
   "metadata": {},
   "outputs": [
    {
     "name": "stdout",
     "output_type": "stream",
     "text": [
      "   No.                       Player Points Move\n",
      "0    1         Novak Djokovic (SRB)  7,240     \n",
      "1    2         Carlos Alcaraz (ESP)  6,770     \n",
      "2    3            Casper Ruud (NOR)  5,255    1\n",
      "3    4        Daniil Medvedev (RUS)  5,240    1\n",
      "4    5     Stefanos Tsitsipas (GRE)  4,950    2\n",
      "5    6          Andrey Rublev (RUS)  4,380     \n",
      "6    7            Holger Rune (DEN)  3,865    2\n",
      "7    8          Jannik Sinner (ITA)  3,525     \n",
      "8    9  Félix Auger-Aliassime (CAN)  3,450    2\n",
      "9   10           Taylor Fritz (USA)  3,245     \n",
      "10  11        Karen Khachanov (RUS)  2,900    1\n",
      "11  12         Frances Tiafoe (USA)  2,870    1\n",
      "12  13         Cameron Norrie (GBR)  2,735    1\n",
      "13  14           Rafael Nadal (ESP)  2,715    1\n",
      "14  15         Hubert Hurkacz (POL)  2,660    2\n",
      "15  16       Alexander Zverev (GER)  2,140     \n",
      "16  17    Pablo Carreño Busta (ESP)  2,095     \n",
      "17  18             Tommy Paul (USA)  2,070     \n",
      "18  19         Alex de Minaur (AUS)  2,050     \n",
      "19  20        Lorenzo Musetti (ITA)  1,930    1\n"
     ]
    }
   ],
   "source": [
    "# Create a DataFrame from the scraped data\n",
    "df = pd.DataFrame(rows, columns=headers)\n",
    "\n",
    "# Print the DataFrame\n",
    "print(df)\n"
   ]
  },
  {
   "cell_type": "markdown",
   "id": "e6b7e365",
   "metadata": {},
   "source": [
    "### Checking for null values"
   ]
  },
  {
   "cell_type": "code",
   "execution_count": 10,
   "id": "d27d569b",
   "metadata": {},
   "outputs": [
    {
     "data": {
      "text/plain": [
       "<bound method DataFrame.info of    No.                       Player Points Move\n",
       "0    1         Novak Djokovic (SRB)  7,240     \n",
       "1    2         Carlos Alcaraz (ESP)  6,770     \n",
       "2    3            Casper Ruud (NOR)  5,255    1\n",
       "3    4        Daniil Medvedev (RUS)  5,240    1\n",
       "4    5     Stefanos Tsitsipas (GRE)  4,950    2\n",
       "5    6          Andrey Rublev (RUS)  4,380     \n",
       "6    7            Holger Rune (DEN)  3,865    2\n",
       "7    8          Jannik Sinner (ITA)  3,525     \n",
       "8    9  Félix Auger-Aliassime (CAN)  3,450    2\n",
       "9   10           Taylor Fritz (USA)  3,245     \n",
       "10  11        Karen Khachanov (RUS)  2,900    1\n",
       "11  12         Frances Tiafoe (USA)  2,870    1\n",
       "12  13         Cameron Norrie (GBR)  2,735    1\n",
       "13  14           Rafael Nadal (ESP)  2,715    1\n",
       "14  15         Hubert Hurkacz (POL)  2,660    2\n",
       "15  16       Alexander Zverev (GER)  2,140     \n",
       "16  17    Pablo Carreño Busta (ESP)  2,095     \n",
       "17  18             Tommy Paul (USA)  2,070     \n",
       "18  19         Alex de Minaur (AUS)  2,050     \n",
       "19  20        Lorenzo Musetti (ITA)  1,930    1>"
      ]
     },
     "execution_count": 10,
     "metadata": {},
     "output_type": "execute_result"
    }
   ],
   "source": [
    "df.info"
   ]
  },
  {
   "cell_type": "code",
   "execution_count": 11,
   "id": "f50d96a2",
   "metadata": {},
   "outputs": [
    {
     "data": {
      "text/plain": [
       "No.       0\n",
       "Player    0\n",
       "Points    0\n",
       "Move      0\n",
       "dtype: int64"
      ]
     },
     "execution_count": 11,
     "metadata": {},
     "output_type": "execute_result"
    }
   ],
   "source": [
    "df.isnull().sum()"
   ]
  },
  {
   "cell_type": "markdown",
   "id": "15c3862b",
   "metadata": {},
   "source": [
    "### It looks like the column 'Move' has spaces as values. So, we need to replace it with zeros. This is because, this column basically indicates the level in which the player moves."
   ]
  },
  {
   "cell_type": "code",
   "execution_count": 12,
   "id": "5a39bf40",
   "metadata": {},
   "outputs": [
    {
     "data": {
      "text/plain": [
       "array(['', '1', '2'], dtype=object)"
      ]
     },
     "execution_count": 12,
     "metadata": {},
     "output_type": "execute_result"
    }
   ],
   "source": [
    "df['Move'].unique()"
   ]
  },
  {
   "cell_type": "code",
   "execution_count": 13,
   "id": "03eaf1d5",
   "metadata": {},
   "outputs": [],
   "source": [
    "# replace columns with only spaces with zeros\n",
    "df.loc[:, df.eq(' ').all()] = 0\n"
   ]
  },
  {
   "cell_type": "code",
   "execution_count": 14,
   "id": "83fcac1d",
   "metadata": {},
   "outputs": [
    {
     "data": {
      "text/html": [
       "<div>\n",
       "<style scoped>\n",
       "    .dataframe tbody tr th:only-of-type {\n",
       "        vertical-align: middle;\n",
       "    }\n",
       "\n",
       "    .dataframe tbody tr th {\n",
       "        vertical-align: top;\n",
       "    }\n",
       "\n",
       "    .dataframe thead th {\n",
       "        text-align: right;\n",
       "    }\n",
       "</style>\n",
       "<table border=\"1\" class=\"dataframe\">\n",
       "  <thead>\n",
       "    <tr style=\"text-align: right;\">\n",
       "      <th></th>\n",
       "      <th>No.</th>\n",
       "      <th>Player</th>\n",
       "      <th>Points</th>\n",
       "      <th>Move</th>\n",
       "    </tr>\n",
       "  </thead>\n",
       "  <tbody>\n",
       "    <tr>\n",
       "      <th>0</th>\n",
       "      <td>1</td>\n",
       "      <td>Novak Djokovic (SRB)</td>\n",
       "      <td>7,240</td>\n",
       "      <td></td>\n",
       "    </tr>\n",
       "    <tr>\n",
       "      <th>1</th>\n",
       "      <td>2</td>\n",
       "      <td>Carlos Alcaraz (ESP)</td>\n",
       "      <td>6,770</td>\n",
       "      <td></td>\n",
       "    </tr>\n",
       "    <tr>\n",
       "      <th>2</th>\n",
       "      <td>3</td>\n",
       "      <td>Casper Ruud (NOR)</td>\n",
       "      <td>5,255</td>\n",
       "      <td>1</td>\n",
       "    </tr>\n",
       "    <tr>\n",
       "      <th>3</th>\n",
       "      <td>4</td>\n",
       "      <td>Daniil Medvedev (RUS)</td>\n",
       "      <td>5,240</td>\n",
       "      <td>1</td>\n",
       "    </tr>\n",
       "    <tr>\n",
       "      <th>4</th>\n",
       "      <td>5</td>\n",
       "      <td>Stefanos Tsitsipas (GRE)</td>\n",
       "      <td>4,950</td>\n",
       "      <td>2</td>\n",
       "    </tr>\n",
       "  </tbody>\n",
       "</table>\n",
       "</div>"
      ],
      "text/plain": [
       "  No.                    Player Points Move\n",
       "0   1      Novak Djokovic (SRB)  7,240     \n",
       "1   2      Carlos Alcaraz (ESP)  6,770     \n",
       "2   3         Casper Ruud (NOR)  5,255    1\n",
       "3   4     Daniil Medvedev (RUS)  5,240    1\n",
       "4   5  Stefanos Tsitsipas (GRE)  4,950    2"
      ]
     },
     "execution_count": 14,
     "metadata": {},
     "output_type": "execute_result"
    }
   ],
   "source": [
    "df.head()"
   ]
  },
  {
   "cell_type": "code",
   "execution_count": 15,
   "id": "fd7a8f9c",
   "metadata": {},
   "outputs": [
    {
     "data": {
      "text/plain": [
       "array(['', '1', '2'], dtype=object)"
      ]
     },
     "execution_count": 15,
     "metadata": {},
     "output_type": "execute_result"
    }
   ],
   "source": [
    "df['Move'].unique()"
   ]
  },
  {
   "cell_type": "code",
   "execution_count": 16,
   "id": "6ca5704c",
   "metadata": {},
   "outputs": [],
   "source": [
    "df = df.replace(\"\", 0)"
   ]
  },
  {
   "cell_type": "code",
   "execution_count": 17,
   "id": "a33d325d",
   "metadata": {},
   "outputs": [
    {
     "data": {
      "text/html": [
       "<div>\n",
       "<style scoped>\n",
       "    .dataframe tbody tr th:only-of-type {\n",
       "        vertical-align: middle;\n",
       "    }\n",
       "\n",
       "    .dataframe tbody tr th {\n",
       "        vertical-align: top;\n",
       "    }\n",
       "\n",
       "    .dataframe thead th {\n",
       "        text-align: right;\n",
       "    }\n",
       "</style>\n",
       "<table border=\"1\" class=\"dataframe\">\n",
       "  <thead>\n",
       "    <tr style=\"text-align: right;\">\n",
       "      <th></th>\n",
       "      <th>No.</th>\n",
       "      <th>Player</th>\n",
       "      <th>Points</th>\n",
       "      <th>Move</th>\n",
       "    </tr>\n",
       "  </thead>\n",
       "  <tbody>\n",
       "    <tr>\n",
       "      <th>0</th>\n",
       "      <td>1</td>\n",
       "      <td>Novak Djokovic (SRB)</td>\n",
       "      <td>7,240</td>\n",
       "      <td>0</td>\n",
       "    </tr>\n",
       "    <tr>\n",
       "      <th>1</th>\n",
       "      <td>2</td>\n",
       "      <td>Carlos Alcaraz (ESP)</td>\n",
       "      <td>6,770</td>\n",
       "      <td>0</td>\n",
       "    </tr>\n",
       "    <tr>\n",
       "      <th>2</th>\n",
       "      <td>3</td>\n",
       "      <td>Casper Ruud (NOR)</td>\n",
       "      <td>5,255</td>\n",
       "      <td>1</td>\n",
       "    </tr>\n",
       "    <tr>\n",
       "      <th>3</th>\n",
       "      <td>4</td>\n",
       "      <td>Daniil Medvedev (RUS)</td>\n",
       "      <td>5,240</td>\n",
       "      <td>1</td>\n",
       "    </tr>\n",
       "    <tr>\n",
       "      <th>4</th>\n",
       "      <td>5</td>\n",
       "      <td>Stefanos Tsitsipas (GRE)</td>\n",
       "      <td>4,950</td>\n",
       "      <td>2</td>\n",
       "    </tr>\n",
       "  </tbody>\n",
       "</table>\n",
       "</div>"
      ],
      "text/plain": [
       "  No.                    Player Points Move\n",
       "0   1      Novak Djokovic (SRB)  7,240    0\n",
       "1   2      Carlos Alcaraz (ESP)  6,770    0\n",
       "2   3         Casper Ruud (NOR)  5,255    1\n",
       "3   4     Daniil Medvedev (RUS)  5,240    1\n",
       "4   5  Stefanos Tsitsipas (GRE)  4,950    2"
      ]
     },
     "execution_count": 17,
     "metadata": {},
     "output_type": "execute_result"
    }
   ],
   "source": [
    "df.head()"
   ]
  },
  {
   "cell_type": "markdown",
   "id": "9aef4590",
   "metadata": {},
   "source": [
    "### Splitting the 'Player' column into two columns."
   ]
  },
  {
   "cell_type": "code",
   "execution_count": 18,
   "id": "76f52285",
   "metadata": {},
   "outputs": [],
   "source": [
    "df[['Name','Country']] = df.Player.str.split('\\(|\\)', expand=True).iloc[:,[0,1]]"
   ]
  },
  {
   "cell_type": "code",
   "execution_count": 19,
   "id": "09516264",
   "metadata": {},
   "outputs": [
    {
     "data": {
      "text/html": [
       "<div>\n",
       "<style scoped>\n",
       "    .dataframe tbody tr th:only-of-type {\n",
       "        vertical-align: middle;\n",
       "    }\n",
       "\n",
       "    .dataframe tbody tr th {\n",
       "        vertical-align: top;\n",
       "    }\n",
       "\n",
       "    .dataframe thead th {\n",
       "        text-align: right;\n",
       "    }\n",
       "</style>\n",
       "<table border=\"1\" class=\"dataframe\">\n",
       "  <thead>\n",
       "    <tr style=\"text-align: right;\">\n",
       "      <th></th>\n",
       "      <th>No.</th>\n",
       "      <th>Player</th>\n",
       "      <th>Points</th>\n",
       "      <th>Move</th>\n",
       "      <th>Name</th>\n",
       "      <th>Country</th>\n",
       "    </tr>\n",
       "  </thead>\n",
       "  <tbody>\n",
       "    <tr>\n",
       "      <th>0</th>\n",
       "      <td>1</td>\n",
       "      <td>Novak Djokovic (SRB)</td>\n",
       "      <td>7,240</td>\n",
       "      <td>0</td>\n",
       "      <td>Novak Djokovic</td>\n",
       "      <td>SRB</td>\n",
       "    </tr>\n",
       "    <tr>\n",
       "      <th>1</th>\n",
       "      <td>2</td>\n",
       "      <td>Carlos Alcaraz (ESP)</td>\n",
       "      <td>6,770</td>\n",
       "      <td>0</td>\n",
       "      <td>Carlos Alcaraz</td>\n",
       "      <td>ESP</td>\n",
       "    </tr>\n",
       "    <tr>\n",
       "      <th>2</th>\n",
       "      <td>3</td>\n",
       "      <td>Casper Ruud (NOR)</td>\n",
       "      <td>5,255</td>\n",
       "      <td>1</td>\n",
       "      <td>Casper Ruud</td>\n",
       "      <td>NOR</td>\n",
       "    </tr>\n",
       "    <tr>\n",
       "      <th>3</th>\n",
       "      <td>4</td>\n",
       "      <td>Daniil Medvedev (RUS)</td>\n",
       "      <td>5,240</td>\n",
       "      <td>1</td>\n",
       "      <td>Daniil Medvedev</td>\n",
       "      <td>RUS</td>\n",
       "    </tr>\n",
       "    <tr>\n",
       "      <th>4</th>\n",
       "      <td>5</td>\n",
       "      <td>Stefanos Tsitsipas (GRE)</td>\n",
       "      <td>4,950</td>\n",
       "      <td>2</td>\n",
       "      <td>Stefanos Tsitsipas</td>\n",
       "      <td>GRE</td>\n",
       "    </tr>\n",
       "  </tbody>\n",
       "</table>\n",
       "</div>"
      ],
      "text/plain": [
       "  No.                    Player Points Move                 Name Country\n",
       "0   1      Novak Djokovic (SRB)  7,240    0      Novak Djokovic      SRB\n",
       "1   2      Carlos Alcaraz (ESP)  6,770    0      Carlos Alcaraz      ESP\n",
       "2   3         Casper Ruud (NOR)  5,255    1         Casper Ruud      NOR\n",
       "3   4     Daniil Medvedev (RUS)  5,240    1     Daniil Medvedev      RUS\n",
       "4   5  Stefanos Tsitsipas (GRE)  4,950    2  Stefanos Tsitsipas      GRE"
      ]
     },
     "execution_count": 19,
     "metadata": {},
     "output_type": "execute_result"
    }
   ],
   "source": [
    "df.head()"
   ]
  },
  {
   "cell_type": "code",
   "execution_count": 20,
   "id": "ad9a9c56",
   "metadata": {},
   "outputs": [],
   "source": [
    "df=df.drop(columns=['Player'])"
   ]
  },
  {
   "cell_type": "code",
   "execution_count": 21,
   "id": "1270ffef",
   "metadata": {},
   "outputs": [
    {
     "data": {
      "text/html": [
       "<div>\n",
       "<style scoped>\n",
       "    .dataframe tbody tr th:only-of-type {\n",
       "        vertical-align: middle;\n",
       "    }\n",
       "\n",
       "    .dataframe tbody tr th {\n",
       "        vertical-align: top;\n",
       "    }\n",
       "\n",
       "    .dataframe thead th {\n",
       "        text-align: right;\n",
       "    }\n",
       "</style>\n",
       "<table border=\"1\" class=\"dataframe\">\n",
       "  <thead>\n",
       "    <tr style=\"text-align: right;\">\n",
       "      <th></th>\n",
       "      <th>No.</th>\n",
       "      <th>Points</th>\n",
       "      <th>Move</th>\n",
       "      <th>Name</th>\n",
       "      <th>Country</th>\n",
       "    </tr>\n",
       "  </thead>\n",
       "  <tbody>\n",
       "    <tr>\n",
       "      <th>0</th>\n",
       "      <td>1</td>\n",
       "      <td>7,240</td>\n",
       "      <td>0</td>\n",
       "      <td>Novak Djokovic</td>\n",
       "      <td>SRB</td>\n",
       "    </tr>\n",
       "    <tr>\n",
       "      <th>1</th>\n",
       "      <td>2</td>\n",
       "      <td>6,770</td>\n",
       "      <td>0</td>\n",
       "      <td>Carlos Alcaraz</td>\n",
       "      <td>ESP</td>\n",
       "    </tr>\n",
       "    <tr>\n",
       "      <th>2</th>\n",
       "      <td>3</td>\n",
       "      <td>5,255</td>\n",
       "      <td>1</td>\n",
       "      <td>Casper Ruud</td>\n",
       "      <td>NOR</td>\n",
       "    </tr>\n",
       "    <tr>\n",
       "      <th>3</th>\n",
       "      <td>4</td>\n",
       "      <td>5,240</td>\n",
       "      <td>1</td>\n",
       "      <td>Daniil Medvedev</td>\n",
       "      <td>RUS</td>\n",
       "    </tr>\n",
       "    <tr>\n",
       "      <th>4</th>\n",
       "      <td>5</td>\n",
       "      <td>4,950</td>\n",
       "      <td>2</td>\n",
       "      <td>Stefanos Tsitsipas</td>\n",
       "      <td>GRE</td>\n",
       "    </tr>\n",
       "  </tbody>\n",
       "</table>\n",
       "</div>"
      ],
      "text/plain": [
       "  No. Points Move                 Name Country\n",
       "0   1  7,240    0      Novak Djokovic      SRB\n",
       "1   2  6,770    0      Carlos Alcaraz      ESP\n",
       "2   3  5,255    1         Casper Ruud      NOR\n",
       "3   4  5,240    1     Daniil Medvedev      RUS\n",
       "4   5  4,950    2  Stefanos Tsitsipas      GRE"
      ]
     },
     "execution_count": 21,
     "metadata": {},
     "output_type": "execute_result"
    }
   ],
   "source": [
    "df.head()"
   ]
  },
  {
   "cell_type": "code",
   "execution_count": 22,
   "id": "c9d474eb",
   "metadata": {},
   "outputs": [],
   "source": [
    "df = df.reindex(columns=['No.','Name','Country','Points','Move'])"
   ]
  },
  {
   "cell_type": "code",
   "execution_count": 23,
   "id": "4539743b",
   "metadata": {},
   "outputs": [
    {
     "data": {
      "text/html": [
       "<div>\n",
       "<style scoped>\n",
       "    .dataframe tbody tr th:only-of-type {\n",
       "        vertical-align: middle;\n",
       "    }\n",
       "\n",
       "    .dataframe tbody tr th {\n",
       "        vertical-align: top;\n",
       "    }\n",
       "\n",
       "    .dataframe thead th {\n",
       "        text-align: right;\n",
       "    }\n",
       "</style>\n",
       "<table border=\"1\" class=\"dataframe\">\n",
       "  <thead>\n",
       "    <tr style=\"text-align: right;\">\n",
       "      <th></th>\n",
       "      <th>No.</th>\n",
       "      <th>Name</th>\n",
       "      <th>Country</th>\n",
       "      <th>Points</th>\n",
       "      <th>Move</th>\n",
       "    </tr>\n",
       "  </thead>\n",
       "  <tbody>\n",
       "    <tr>\n",
       "      <th>0</th>\n",
       "      <td>1</td>\n",
       "      <td>Novak Djokovic</td>\n",
       "      <td>SRB</td>\n",
       "      <td>7,240</td>\n",
       "      <td>0</td>\n",
       "    </tr>\n",
       "    <tr>\n",
       "      <th>1</th>\n",
       "      <td>2</td>\n",
       "      <td>Carlos Alcaraz</td>\n",
       "      <td>ESP</td>\n",
       "      <td>6,770</td>\n",
       "      <td>0</td>\n",
       "    </tr>\n",
       "    <tr>\n",
       "      <th>2</th>\n",
       "      <td>3</td>\n",
       "      <td>Casper Ruud</td>\n",
       "      <td>NOR</td>\n",
       "      <td>5,255</td>\n",
       "      <td>1</td>\n",
       "    </tr>\n",
       "    <tr>\n",
       "      <th>3</th>\n",
       "      <td>4</td>\n",
       "      <td>Daniil Medvedev</td>\n",
       "      <td>RUS</td>\n",
       "      <td>5,240</td>\n",
       "      <td>1</td>\n",
       "    </tr>\n",
       "    <tr>\n",
       "      <th>4</th>\n",
       "      <td>5</td>\n",
       "      <td>Stefanos Tsitsipas</td>\n",
       "      <td>GRE</td>\n",
       "      <td>4,950</td>\n",
       "      <td>2</td>\n",
       "    </tr>\n",
       "  </tbody>\n",
       "</table>\n",
       "</div>"
      ],
      "text/plain": [
       "  No.                 Name Country Points Move\n",
       "0   1      Novak Djokovic      SRB  7,240    0\n",
       "1   2      Carlos Alcaraz      ESP  6,770    0\n",
       "2   3         Casper Ruud      NOR  5,255    1\n",
       "3   4     Daniil Medvedev      RUS  5,240    1\n",
       "4   5  Stefanos Tsitsipas      GRE  4,950    2"
      ]
     },
     "execution_count": 23,
     "metadata": {},
     "output_type": "execute_result"
    }
   ],
   "source": [
    "df.head()"
   ]
  },
  {
   "cell_type": "code",
   "execution_count": 24,
   "id": "005ad2e0",
   "metadata": {},
   "outputs": [
    {
     "data": {
      "text/plain": [
       "(20, 5)"
      ]
     },
     "execution_count": 24,
     "metadata": {},
     "output_type": "execute_result"
    }
   ],
   "source": [
    "df.shape"
   ]
  },
  {
   "cell_type": "markdown",
   "id": "7d3dec72",
   "metadata": {},
   "source": [
    "### Writing the dataset into a csv file."
   ]
  },
  {
   "cell_type": "code",
   "execution_count": 25,
   "id": "67e75722",
   "metadata": {},
   "outputs": [],
   "source": [
    "df.to_csv('Atp_Clean.csv', index=False)"
   ]
  },
  {
   "cell_type": "code",
   "execution_count": 26,
   "id": "e334ef76",
   "metadata": {},
   "outputs": [
    {
     "data": {
      "text/plain": [
       "No.        object\n",
       "Name       object\n",
       "Country    object\n",
       "Points     object\n",
       "Move       object\n",
       "dtype: object"
      ]
     },
     "execution_count": 26,
     "metadata": {},
     "output_type": "execute_result"
    }
   ],
   "source": [
    "df.dtypes"
   ]
  },
  {
   "cell_type": "code",
   "execution_count": null,
   "id": "87f6e1df",
   "metadata": {},
   "outputs": [],
   "source": []
  }
 ],
 "metadata": {
  "kernelspec": {
   "display_name": "Python 3 (ipykernel)",
   "language": "python",
   "name": "python3"
  },
  "language_info": {
   "codemirror_mode": {
    "name": "ipython",
    "version": 3
   },
   "file_extension": ".py",
   "mimetype": "text/x-python",
   "name": "python",
   "nbconvert_exporter": "python",
   "pygments_lexer": "ipython3",
   "version": "3.9.12"
  }
 },
 "nbformat": 4,
 "nbformat_minor": 5
}
